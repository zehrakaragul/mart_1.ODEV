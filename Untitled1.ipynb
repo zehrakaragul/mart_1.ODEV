{
  "metadata": {
    "kernelspec": {
      "name": "python",
      "display_name": "Python (Pyodide)",
      "language": "python"
    },
    "language_info": {
      "codemirror_mode": {
        "name": "python",
        "version": 3
      },
      "file_extension": ".py",
      "mimetype": "text/x-python",
      "name": "python",
      "nbconvert_exporter": "python",
      "pygments_lexer": "ipython3",
      "version": "3.8"
    }
  },
  "nbformat_minor": 5,
  "nbformat": 4,
  "cells": [
    {
      "id": "3919caae-ffba-47b2-b211-6df0a6888a18",
      "cell_type": "code",
      "source": "\"\"\"\nPandas Kütüphanesinde 10 Fonksiyonun Açıklaması ve Kullanım Örnekleri\n\"\"\"\n\nimport pandas as pd\n\n# Örnek veri oluşturma\ndata = {\n    \"A\": [1, 2, 3, 4, 5],\n    \"B\": [10, 20, 30, 40, 50],\n    \"C\": [100, 200, 300, 400, 500]\n}\ndf = pd.DataFrame(data)\nprint(\"1. Örnek DataFrame:\\n\", df)\n\n# 1. head(): DataFrame'in ilk 5 satırını getirir\nprint(\"\\n1. head() Kullanımı:\\n\", df.head())\n\n",
      "metadata": {
        "trusted": true
      },
      "outputs": [
        {
          "name": "stdout",
          "output_type": "stream",
          "text": "1. Örnek DataFrame:\n    A   B    C\n0  1  10  100\n1  2  20  200\n2  3  30  300\n3  4  40  400\n4  5  50  500\n\n1. head() Kullanımı:\n    A   B    C\n0  1  10  100\n1  2  20  200\n2  3  30  300\n3  4  40  400\n4  5  50  500\n"
        }
      ],
      "execution_count": 2
    },
    {
      "id": "be6460e6-4107-43ae-8b01-aa407818bba7",
      "cell_type": "code",
      "source": "# 2. tail(): DataFrame'in son 5 satırını getirir\nprint(\"\\n2. tail() Kullanımı:\\n\", df.tail())",
      "metadata": {
        "trusted": true
      },
      "outputs": [
        {
          "name": "stdout",
          "output_type": "stream",
          "text": "\n2. tail() Kullanımı:\n    A   B    C\n0  1  10  100\n1  2  20  200\n2  3  30  300\n3  4  40  400\n4  5  50  500\n"
        }
      ],
      "execution_count": 3
    },
    {
      "id": "f8ea0719-7da2-4b92-b508-72d43c5eb895",
      "cell_type": "code",
      "source": "# 3. info(): DataFrame hakkında genel bilgi verir\nprint(\"\\n3. info() Kullanımı:\")\ndf.info()",
      "metadata": {
        "trusted": true
      },
      "outputs": [
        {
          "name": "stdout",
          "output_type": "stream",
          "text": "\n3. info() Kullanımı:\n<class 'pandas.core.frame.DataFrame'>\nRangeIndex: 5 entries, 0 to 4\nData columns (total 3 columns):\n #   Column  Non-Null Count  Dtype\n---  ------  --------------  -----\n 0   A       5 non-null      int64\n 1   B       5 non-null      int64\n 2   C       5 non-null      int64\ndtypes: int64(3)\nmemory usage: 192.0 bytes\n"
        }
      ],
      "execution_count": 4
    },
    {
      "id": "323cb8e5-9083-4d42-92e0-2b4e3c6f634d",
      "cell_type": "code",
      "source": "# 4. describe(): Sayısal sütunlar için özet istatistikleri döndürür\nprint(\"\\n4. describe() Kullanımı:\\n\", df.describe())",
      "metadata": {
        "trusted": true
      },
      "outputs": [
        {
          "name": "stdout",
          "output_type": "stream",
          "text": "\n4. describe() Kullanımı:\n               A          B           C\ncount  5.000000   5.000000    5.000000\nmean   3.000000  30.000000  300.000000\nstd    1.581139  15.811388  158.113883\nmin    1.000000  10.000000  100.000000\n25%    2.000000  20.000000  200.000000\n50%    3.000000  30.000000  300.000000\n75%    4.000000  40.000000  400.000000\nmax    5.000000  50.000000  500.000000\n"
        }
      ],
      "execution_count": 5
    },
    {
      "id": "3430b037-d4ed-45e9-ab6a-44ea0f483c15",
      "cell_type": "code",
      "source": "# 5. loc[]: Etiketlere göre veri seçimi yapar\nprint(\"\\n5. loc[] Kullanımı:\\n\", df.loc[0])",
      "metadata": {
        "trusted": true
      },
      "outputs": [
        {
          "name": "stdout",
          "output_type": "stream",
          "text": "\n5. loc[] Kullanımı:\n A      1\nB     10\nC    100\nName: 0, dtype: int64\n"
        }
      ],
      "execution_count": 6
    },
    {
      "id": "36cb3f6e-177d-42ab-9515-a5357445d23e",
      "cell_type": "code",
      "source": "# 6. iloc[]: İndekse göre veri seçimi yapar\nprint(\"\\n6. iloc[] Kullanımı:\\n\", df.iloc[1])",
      "metadata": {
        "trusted": true
      },
      "outputs": [
        {
          "name": "stdout",
          "output_type": "stream",
          "text": "\n6. iloc[] Kullanımı:\n A      2\nB     20\nC    200\nName: 1, dtype: int64\n"
        }
      ],
      "execution_count": 7
    },
    {
      "id": "6e9256c1-8b6f-4748-90c9-184e6b840b1f",
      "cell_type": "code",
      "source": "# 7. isnull(): Eksik değerleri kontrol eder\nprint(\"\\n7. isnull() Kullanımı:\\n\", df.isnull())",
      "metadata": {
        "trusted": true
      },
      "outputs": [
        {
          "name": "stdout",
          "output_type": "stream",
          "text": "\n7. isnull() Kullanımı:\n        A      B      C\n0  False  False  False\n1  False  False  False\n2  False  False  False\n3  False  False  False\n4  False  False  False\n"
        }
      ],
      "execution_count": 8
    },
    {
      "id": "ed764897-4e1f-4d02-a9c1-4ca215e3b732",
      "cell_type": "code",
      "source": "# 8. fillna(): Eksik değerleri belirli bir değerle doldurur\ndf_filled = df.fillna(0)\nprint(\"\\n8. fillna() Kullanımı:\\n\", df_filled)",
      "metadata": {
        "trusted": true
      },
      "outputs": [
        {
          "name": "stdout",
          "output_type": "stream",
          "text": "\n8. fillna() Kullanımı:\n    A   B    C\n0  1  10  100\n1  2  20  200\n2  3  30  300\n3  4  40  400\n4  5  50  500\n"
        }
      ],
      "execution_count": 9
    },
    {
      "id": "3537df43-cbe2-403f-a76b-f75510fe6963",
      "cell_type": "code",
      "source": "# 9. drop(): Belirli bir sütunu veya satırı siler\ndf_dropped = df.drop(columns=[\"B\"])\nprint(\"\\n9. drop() Kullanımı (Sütun B silindi):\\n\", df_dropped)",
      "metadata": {
        "trusted": true
      },
      "outputs": [
        {
          "name": "stdout",
          "output_type": "stream",
          "text": "\n9. drop() Kullanımı (Sütun B silindi):\n    A    C\n0  1  100\n1  2  200\n2  3  300\n3  4  400\n4  5  500\n"
        }
      ],
      "execution_count": 10
    },
    {
      "id": "76b3d216-61c6-498b-b7b6-2f2a34f08e53",
      "cell_type": "code",
      "source": "# 10. groupby(): Veriyi belirli bir sütuna göre gruplar ve işlem yapar\ndf_grouped = df.groupby(\"A\").sum()\nprint(\"\\n10. groupby() Kullanımı:\\n\", df_grouped)",
      "metadata": {
        "trusted": true
      },
      "outputs": [
        {
          "name": "stdout",
          "output_type": "stream",
          "text": "\n10. groupby() Kullanımı:\n     B    C\nA         \n1  10  100\n2  20  200\n3  30  300\n4  40  400\n5  50  500\n"
        }
      ],
      "execution_count": 11
    },
    {
      "id": "75027190-ccbc-4e3a-b7f3-aeda83c1c2a2",
      "cell_type": "code",
      "source": "",
      "metadata": {
        "trusted": true
      },
      "outputs": [],
      "execution_count": null
    }
  ]
}